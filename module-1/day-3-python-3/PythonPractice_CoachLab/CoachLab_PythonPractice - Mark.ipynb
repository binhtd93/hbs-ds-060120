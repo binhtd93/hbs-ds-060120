{
 "cells": [
  {
   "cell_type": "markdown",
   "metadata": {},
   "source": [
    "# Python Practice\n",
    "\n",
    "![boston city image, from the boston herald](bostoncity_source-bostonherald.jpg)\n",
    "\n",
    "I don't know about you all, but I miss traveling right now! Maybe looking at some details about cities around the world will sate my travel urges for now - so let's use a dictionary of cities to practice variable types, lists,  dictionaries and for-loops.\n",
    "\n",
    "This cities dictionary may look familiar to some of you - it was also used in your Prework, in the [Looping Over Collections Lab](https://learn.co/tracks/data-science-enterprise-harvard-business-school-summer-bootcamp/optional-prework-python/introduction-to-python/looping-over-collections-lab)"
   ]
  },
  {
   "cell_type": "code",
   "execution_count": 34,
   "metadata": {},
   "outputs": [
    {
     "data": {
      "text/plain": [
       "[{'City': 'Buenos Aires',\n",
       "  'Country': 'Argentina',\n",
       "  'Population': 2891000,\n",
       "  'Area': 4758},\n",
       " {'City': 'Toronto', 'Country': 'Canada', 'Population': 2800000, 'Area': 2731},\n",
       " {'City': 'Pyeongchang',\n",
       "  'Country': 'South Korea',\n",
       "  'Population': 2581000,\n",
       "  'Area': 3194},\n",
       " {'City': 'Marrakesh',\n",
       "  'Country': 'Morocco',\n",
       "  'Population': 928850,\n",
       "  'Area': 200},\n",
       " {'City': 'Albuquerque', 'Country': 'USA', 'Population': 559277, 'Area': 491},\n",
       " {'City': 'Los Cabos',\n",
       "  'Country': 'Mexico',\n",
       "  'Population': 287671,\n",
       "  'Area': 3750},\n",
       " {'City': 'Greenville', 'Country': 'USA', 'Population': 84554, 'Area': 68},\n",
       " {'City': 'Archipelago Sea',\n",
       "  'Country': 'Finland',\n",
       "  'Population': 60000,\n",
       "  'Area': 8300},\n",
       " {'City': 'Walla Walla Valley',\n",
       "  'Country': 'Oregon',\n",
       "  'Population': 32237,\n",
       "  'Area': 33},\n",
       " {'City': 'Salina Island', 'Country': 'Italy', 'Population': 4000, 'Area': 27},\n",
       " {'City': 'Solta', 'Country': 'Croatia', 'Population': 1700, 'Area': 59},\n",
       " {'City': 'Iguazu Falls',\n",
       "  'Country': 'Argentina',\n",
       "  'Population': 0,\n",
       "  'Area': 672}]"
      ]
     },
     "execution_count": 34,
     "metadata": {},
     "output_type": "execute_result"
    }
   ],
   "source": [
    "# Here's a list of city dictionaries\n",
    "cities_dict_list = [\n",
    "    {'City': 'Buenos Aires',\n",
    "     'Country': 'Argentina',\n",
    "     'Population': 2891000,\n",
    "     'Area': 4758},\n",
    "    {'City': 'Toronto',\n",
    "     'Country': 'Canada',\n",
    "     'Population': 2800000,\n",
    "     'Area': 2731},\n",
    "    {'City': 'Pyeongchang',\n",
    "     'Country': 'South Korea',\n",
    "     'Population': 2581000,\n",
    "     'Area': 3194},\n",
    "    {'City': 'Marrakesh',\n",
    "     'Country': 'Morocco',\n",
    "     'Population': 928850,\n",
    "     'Area': 200},\n",
    "    {'City': 'Albuquerque',\n",
    "     'Country': 'USA',\n",
    "     'Population': 559277,\n",
    "     'Area': 491},\n",
    "    {'City': 'Los Cabos',\n",
    "     'Country': 'Mexico',\n",
    "     'Population': 287671,\n",
    "     'Area': 3750},\n",
    "    {'City': 'Greenville',\n",
    "     'Country': 'USA',\n",
    "     'Population': 84554,\n",
    "     'Area': 68},\n",
    "    {'City': 'Archipelago Sea',\n",
    "     'Country': 'Finland',\n",
    "     'Population': 60000,\n",
    "     'Area': 8300},\n",
    "    {'City': 'Walla Walla Valley',\n",
    "     'Country': 'Oregon',\n",
    "     'Population': 32237,\n",
    "     'Area': 33},\n",
    "    {'City': 'Salina Island',\n",
    "     'Country': 'Italy',\n",
    "     'Population': 4000,\n",
    "     'Area': 27},\n",
    "    {'City': 'Solta',\n",
    "     'Country': 'Croatia',\n",
    "     'Population': 1700,\n",
    "     'Area': 59},\n",
    "    {'City': 'Iguazu Falls',\n",
    "     'Country': 'Argentina',\n",
    "     'Population': 0,\n",
    "     'Area': 672}\n",
    "]\n",
    "cities_dict_list"
   ]
  },
  {
   "cell_type": "markdown",
   "metadata": {},
   "source": [
    "Let's look at the first city in the list of city dictionaries, Buenos Aires:"
   ]
  },
  {
   "cell_type": "code",
   "execution_count": 4,
   "metadata": {},
   "outputs": [
    {
     "data": {
      "text/plain": [
       "{'City': 'Buenos Aires',\n",
       " 'Country': 'Argentina',\n",
       " 'Population': 2891000,\n",
       " 'Area': 4758}"
      ]
     },
     "execution_count": 4,
     "metadata": {},
     "output_type": "execute_result"
    }
   ],
   "source": [
    "first_city = cities_dict_list [0]\n",
    "first_city"
   ]
  },
  {
   "cell_type": "markdown",
   "metadata": {},
   "source": [
    "Save it into a new variable, `first_city`:"
   ]
  },
  {
   "cell_type": "code",
   "execution_count": 10,
   "metadata": {},
   "outputs": [
    {
     "name": "stdout",
     "output_type": "stream",
     "text": [
      "Buenos Aires is the capital city of Argentina with the population of 2891000\n"
     ]
    }
   ],
   "source": [
    "print(f\"{first_city['City']} is the capital city of {first_city['Country']} with the population of {first_city['Population']}\")"
   ]
  },
  {
   "cell_type": "markdown",
   "metadata": {},
   "source": [
    "Let's say I want to print all of the details about Buenos Aires nicely? How can we use `f-string` or `format` to do that?"
   ]
  },
  {
   "cell_type": "code",
   "execution_count": 19,
   "metadata": {},
   "outputs": [
    {
     "name": "stdout",
     "output_type": "stream",
     "text": [
      "Buenos Aires is the capital city of Argentina with the population of 2891000\n"
     ]
    }
   ],
   "source": [
    "print(\"{} is the capital city of {} with the population of {}\".format(first_city['City'],first_city['Country'],first_city['Population']))\n"
   ]
  },
  {
   "cell_type": "code",
   "execution_count": 11,
   "metadata": {},
   "outputs": [
    {
     "name": "stdout",
     "output_type": "stream",
     "text": [
      "Buenos Aires is the capital city of Argentina with the population of 2891000\n",
      "Toronto is the capital city of Canada with the population of 2800000\n",
      "Pyeongchang is the capital city of South Korea with the population of 2581000\n",
      "Marrakesh is the capital city of Morocco with the population of 928850\n",
      "Albuquerque is the capital city of USA with the population of 559277\n",
      "Los Cabos is the capital city of Mexico with the population of 287671\n",
      "Greenville is the capital city of USA with the population of 84554\n",
      "Archipelago Sea is the capital city of Finland with the population of 60000\n",
      "Walla Walla Valley is the capital city of Oregon with the population of 32237\n",
      "Salina Island is the capital city of Italy with the population of 4000\n",
      "Solta is the capital city of Croatia with the population of 1700\n",
      "Iguazu Falls is the capital city of Argentina with the population of 0\n"
     ]
    }
   ],
   "source": [
    "for cities_dict in cities_dict_list:\n",
    "    print(f\"{cities_dict['City']} is the capital city of {cities_dict['Country']} with the population of {cities_dict['Population']}\")"
   ]
  },
  {
   "cell_type": "markdown",
   "metadata": {},
   "source": [
    "Let's use a for-loop and do the same thing for each city in `cities_dict`:"
   ]
  },
  {
   "cell_type": "code",
   "execution_count": 26,
   "metadata": {
    "scrolled": true
   },
   "outputs": [
    {
     "name": "stdout",
     "output_type": "stream",
     "text": [
      "10,230,289\n"
     ]
    }
   ],
   "source": [
    "total_population = 0\n",
    "for cities_dict in cities_dict_list:\n",
    "    total_population += cities_dict['Population']\n",
    "\n",
    "print(f'{total_population:,}')"
   ]
  },
  {
   "cell_type": "markdown",
   "metadata": {},
   "source": [
    "Sweet!\n",
    "\n",
    "Now, let's see if we can find out what the total population is across all of our cities:"
   ]
  },
  {
   "cell_type": "code",
   "execution_count": null,
   "metadata": {},
   "outputs": [],
   "source": []
  },
  {
   "cell_type": "markdown",
   "metadata": {},
   "source": [
    "Note: you can use `f-string`s or `.format` to make that string look nicer.\n",
    "\n",
    "Start with this example: \" `print(f'{value:,}')` \" and see if you can get it to work with the total population we calculated above:"
   ]
  },
  {
   "cell_type": "code",
   "execution_count": 36,
   "metadata": {},
   "outputs": [
    {
     "data": {
      "text/plain": [
       "[{'City': 'Buenos Aires',\n",
       "  'Country': 'Argentina',\n",
       "  'Population': 2891000,\n",
       "  'Area': 4758},\n",
       " {'City': 'Toronto', 'Country': 'Canada', 'Population': 2800000, 'Area': 2731},\n",
       " {'City': 'Pyeongchang',\n",
       "  'Country': 'South Korea',\n",
       "  'Population': 2581000,\n",
       "  'Area': 3194},\n",
       " {'City': 'Marrakesh',\n",
       "  'Country': 'Morocco',\n",
       "  'Population': 928850,\n",
       "  'Area': 200},\n",
       " {'City': 'Albuquerque', 'Country': 'USA', 'Population': 559277, 'Area': 491},\n",
       " {'City': 'Los Cabos',\n",
       "  'Country': 'Mexico',\n",
       "  'Population': 287671,\n",
       "  'Area': 3750},\n",
       " {'City': 'Greenville', 'Country': 'USA', 'Population': 84554, 'Area': 68},\n",
       " {'City': 'Archipelago Sea',\n",
       "  'Country': 'Finland',\n",
       "  'Population': 60000,\n",
       "  'Area': 8300},\n",
       " {'City': 'Walla Walla Valley',\n",
       "  'Country': 'USA',\n",
       "  'Population': 32237,\n",
       "  'Area': 33},\n",
       " {'City': 'Salina Island', 'Country': 'Italy', 'Population': 4000, 'Area': 27},\n",
       " {'City': 'Solta', 'Country': 'Croatia', 'Population': 1700, 'Area': 59},\n",
       " {'City': 'Iguazu Falls',\n",
       "  'Country': 'Argentina',\n",
       "  'Population': 0,\n",
       "  'Area': 672}]"
      ]
     },
     "execution_count": 36,
     "metadata": {},
     "output_type": "execute_result"
    }
   ],
   "source": [
    "for city in cities_dict_list:\n",
    "    if city['City'] == 'Walla Walla Valley':\n",
    "        city['Country'] = 'USA'\n",
    "\n",
    "cities_dict_list"
   ]
  },
  {
   "cell_type": "markdown",
   "metadata": {},
   "source": [
    "Unfortunately, and you may have already seen this by now, but it says that `Walla Walla Valley` is in `Country: Oregon` - and Oregon is not a country! Let's update that value to say `USA`:"
   ]
  },
  {
   "cell_type": "code",
   "execution_count": 45,
   "metadata": {},
   "outputs": [
    {
     "data": {
      "text/plain": [
       "['Albuquerque']"
      ]
     },
     "execution_count": 45,
     "metadata": {},
     "output_type": "execute_result"
    }
   ],
   "source": [
    "usa_cities = []\n",
    "for usa_city in cities_dict_list:\n",
    "    if usa_city['Country'] == \"USA\":\n",
    "        if usa_city['Population'] > 100000:\n",
    "            usa_cities.append(usa_city['City'])\n",
    "        \n",
    "usa_cities"
   ]
  },
  {
   "cell_type": "markdown",
   "metadata": {},
   "source": [
    "Now let's use a for loop and an `if` statement to print out all the cities that are in `Country: USA`:"
   ]
  },
  {
   "cell_type": "code",
   "execution_count": 43,
   "metadata": {},
   "outputs": [
    {
     "data": {
      "text/plain": [
       "str"
      ]
     },
     "execution_count": 43,
     "metadata": {},
     "output_type": "execute_result"
    }
   ],
   "source": [
    "type(usa_city['City'])"
   ]
  },
  {
   "cell_type": "markdown",
   "metadata": {},
   "source": [
    "Now let's say we want to only grab cities where the population is more than 100,000 people. Write a for loop that does so:"
   ]
  },
  {
   "cell_type": "code",
   "execution_count": null,
   "metadata": {},
   "outputs": [],
   "source": []
  },
  {
   "cell_type": "markdown",
   "metadata": {},
   "source": [
    "## Level Up!\n",
    "\n",
    "Below, I have defined a dictionary matching each country to its continent:"
   ]
  },
  {
   "cell_type": "code",
   "execution_count": 50,
   "metadata": {},
   "outputs": [],
   "source": [
    "continents_dict = {\n",
    "    'Argentina': 'South America',\n",
    "    'Canada': 'North America',\n",
    "    'South Korea': 'Asia',\n",
    "    'Morocco': 'Africa',\n",
    "    'USA': 'North America',\n",
    "    'Mexico': 'North America',\n",
    "    'Finland': 'Europe',\n",
    "    'Italy': 'Europe',\n",
    "    'Croatia': 'Europe'\n",
    "}"
   ]
  },
  {
   "cell_type": "markdown",
   "metadata": {},
   "source": [
    "How can we add each of these continents into our earlier dictionary, `cities_dict_list`?"
   ]
  },
  {
   "cell_type": "code",
   "execution_count": 52,
   "metadata": {},
   "outputs": [
    {
     "data": {
      "text/plain": [
       "[{'City': 'Buenos Aires',\n",
       "  'Country': 'Argentina',\n",
       "  'Population': 2891000,\n",
       "  'Area': 4758,\n",
       "  'Continents': 'South America'},\n",
       " {'City': 'Toronto',\n",
       "  'Country': 'Canada',\n",
       "  'Population': 2800000,\n",
       "  'Area': 2731,\n",
       "  'Continents': 'North America'},\n",
       " {'City': 'Pyeongchang',\n",
       "  'Country': 'South Korea',\n",
       "  'Population': 2581000,\n",
       "  'Area': 3194,\n",
       "  'Continents': 'Asia'},\n",
       " {'City': 'Marrakesh',\n",
       "  'Country': 'Morocco',\n",
       "  'Population': 928850,\n",
       "  'Area': 200,\n",
       "  'Continents': 'Africa'},\n",
       " {'City': 'Albuquerque',\n",
       "  'Country': 'USA',\n",
       "  'Population': 559277,\n",
       "  'Area': 491,\n",
       "  'Continents': 'North America'},\n",
       " {'City': 'Los Cabos',\n",
       "  'Country': 'Mexico',\n",
       "  'Population': 287671,\n",
       "  'Area': 3750,\n",
       "  'Continents': 'North America'},\n",
       " {'City': 'Greenville',\n",
       "  'Country': 'USA',\n",
       "  'Population': 84554,\n",
       "  'Area': 68,\n",
       "  'Continents': 'North America'},\n",
       " {'City': 'Archipelago Sea',\n",
       "  'Country': 'Finland',\n",
       "  'Population': 60000,\n",
       "  'Area': 8300,\n",
       "  'Continents': 'Europe'},\n",
       " {'City': 'Walla Walla Valley',\n",
       "  'Country': 'USA',\n",
       "  'Population': 32237,\n",
       "  'Area': 33,\n",
       "  'Continents': 'North America'},\n",
       " {'City': 'Salina Island',\n",
       "  'Country': 'Italy',\n",
       "  'Population': 4000,\n",
       "  'Area': 27,\n",
       "  'Continents': 'Europe'},\n",
       " {'City': 'Solta',\n",
       "  'Country': 'Croatia',\n",
       "  'Population': 1700,\n",
       "  'Area': 59,\n",
       "  'Continents': 'Europe'},\n",
       " {'City': 'Iguazu Falls',\n",
       "  'Country': 'Argentina',\n",
       "  'Population': 0,\n",
       "  'Area': 672,\n",
       "  'Continents': 'South America'}]"
      ]
     },
     "execution_count": 52,
     "metadata": {},
     "output_type": "execute_result"
    }
   ],
   "source": [
    "for city in cities_dict_list:\n",
    "    city ['Continents'] = continents_dict[city['Country']]\n",
    "\n",
    "cities_dict_list"
   ]
  },
  {
   "cell_type": "code",
   "execution_count": null,
   "metadata": {},
   "outputs": [],
   "source": []
  }
 ],
 "metadata": {
  "kernelspec": {
   "display_name": "Python 3",
   "language": "python",
   "name": "python3"
  },
  "language_info": {
   "codemirror_mode": {
    "name": "ipython",
    "version": 3
   },
   "file_extension": ".py",
   "mimetype": "text/x-python",
   "name": "python",
   "nbconvert_exporter": "python",
   "pygments_lexer": "ipython3",
   "version": "3.7.6"
  }
 },
 "nbformat": 4,
 "nbformat_minor": 2
}
